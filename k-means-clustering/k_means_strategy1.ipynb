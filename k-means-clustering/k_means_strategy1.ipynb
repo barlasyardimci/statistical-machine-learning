{
 "cells": [
  {
   "cell_type": "code",
   "execution_count": 1,
   "metadata": {},
   "outputs": [],
   "source": [
    "from Precode import *\n",
    "import numpy\n",
    "\n",
    "data = np.load('AllSamples.npy')"
   ]
  },
  {
   "cell_type": "code",
   "execution_count": 2,
   "metadata": {},
   "outputs": [
    {
     "name": "stdout",
     "output_type": "stream",
     "text": [
      "Strategy 1: k and initial points\n"
     ]
    }
   ],
   "source": [
    "k1,i_point1,k2,i_point2 = initial_S1('9330') # please replace 0111 with your last four digit of your ID"
   ]
  },
  {
   "cell_type": "code",
   "execution_count": 3,
   "metadata": {},
   "outputs": [
    {
     "name": "stdout",
     "output_type": "stream",
     "text": [
      "3\n",
      "[[5.07631894 3.30296197]\n",
      " [1.87131855 3.43365823]\n",
      " [5.02471033 8.23879873]]\n",
      "5\n",
      "[[6.2396717  6.55049457]\n",
      " [6.46350009 0.77471754]\n",
      " [7.83816267 2.49139275]\n",
      " [7.06572    2.08940967]\n",
      " [6.63352332 0.98020705]]\n"
     ]
    }
   ],
   "source": [
    "print(k1)\n",
    "print(i_point1)\n",
    "print(k2)\n",
    "print(i_point2)"
   ]
  },
  {
   "cell_type": "code",
   "execution_count": 4,
   "metadata": {},
   "outputs": [
    {
     "name": "stdout",
     "output_type": "stream",
     "text": [
      "(1338.1059838029255, {0: array([7.23975119, 2.48208269]), 1: array([3.24896423, 2.58027691]), 2: array([4.83375318, 7.31605824])})\n",
      "(598.5546443663115, {0: array([6.7786424 , 8.07967641]), 1: array([2.68198633, 2.09461587]), 2: array([7.55616782, 2.23516796]), 3: array([2.87490813, 7.01082281]), 4: array([5.22321274, 4.22502829])})\n"
     ]
    }
   ],
   "source": [
    "def distance(d1, d2):\n",
    "    return numpy.sqrt(numpy.sum(numpy.square(d1 - d2), axis = 1)).reshape(d1.shape[0],1)\n",
    "    \n",
    "def k_means(data, k, centroids):\n",
    "    prev_obj = 10000000000\n",
    "    centroid_coords = dict()\n",
    "    all_distances = dict()\n",
    "    #create centroids\n",
    "    objective_score = 1000000000\n",
    "    epoch = 0\n",
    "    while epoch < 500:\n",
    "        prev_obj = objective_score\n",
    "        for i in range(k):\n",
    "            centroid_coords[i] = centroids[i]\n",
    "            #calculate all distances of data to each centroid\n",
    "            all_distances[i] = distance(data, centroid_coords[i])\n",
    "        \n",
    "        #get euclidean distance scores\n",
    "        distance_scores = numpy.concatenate([value for key,value in all_distances.items()], axis = 1)\n",
    "        #find clusters for each point\n",
    "        distance_scores = numpy.argmin(distance_scores, axis = 1)\n",
    "    \n",
    "        #calculate means\n",
    "        means = dict()\n",
    "        for x in range(k):\n",
    "            means[x] = numpy.mean(data[distance_scores == x][:], axis = 0)\n",
    "    \n",
    "        #calculate objective function\n",
    "        objective_score = numpy.sum([numpy.sum(numpy.square(distance(data[distance_scores == key][:], means[key]))) for key, value in means.items()])\n",
    "        #update centroids\n",
    "        centroids = means\n",
    "        epoch += 1\n",
    "    \n",
    "    return objective_score, centroids\n",
    "\n",
    "print(k_means(data, k1, i_point1))\n",
    "print(k_means(data, k2, i_point2))\n",
    "\n"
   ]
  },
  {
   "cell_type": "code",
   "execution_count": 5,
   "metadata": {},
   "outputs": [
    {
     "name": "stdout",
     "output_type": "stream",
     "text": [
      "[ 41 163]\n",
      "[124 174  15]\n",
      "[130 297  15  87]\n",
      "[ 37 175 134 283  30]\n",
      "[141  16 282 273  61 117]\n",
      "[256 235 110 188 201 270 176]\n",
      "[183  49  37  71 143 130  82 257]\n",
      "[228  60 248 135  57  82 145  14 198]\n",
      "[ 27  74 258  38  80  56  84  68  29  19]\n",
      "{2: 1921.033485856206, 3: 1338.1076016520997, 4: 789.237972217795, 5: 613.2824392056041, 6: 468.9538755370989, 7: 390.0265587927033, 8: 385.89678446447545, 9: 292.4082044599104, 10: 182.72607076337144}\n",
      "{2: array([[3.2115245 , 1.1089788 ],\n",
      "       [5.60944242, 2.91327032]]), 3: array([[7.80003043, 1.90963115],\n",
      "       [7.90345455, 2.28430161],\n",
      "       [6.6384501 , 8.33574252]]), 4: array([[6.48423011, 5.04416608],\n",
      "       [4.32239695, 0.33088885],\n",
      "       [6.6384501 , 8.33574252],\n",
      "       [2.33338702, 7.23913284]]), 5: array([[5.27137631, 5.53516715],\n",
      "       [3.54461267, 0.94261882],\n",
      "       [7.72715541, 7.62018213],\n",
      "       [7.75261716, 8.67289362],\n",
      "       [6.47098788, 5.4510163 ]]), 6: array([[4.62125558, 7.81235824],\n",
      "       [6.6781262 , 1.1080157 ],\n",
      "       [1.77775261, 7.21854537],\n",
      "       [1.87131855, 3.43365823],\n",
      "       [5.36626615, 6.51434231],\n",
      "       [8.21897526, 8.9510505 ]]), 7: array([[4.74625798, 3.54661053],\n",
      "       [6.99180377, 5.7932428 ],\n",
      "       [7.39015357, 1.13206806],\n",
      "       [2.6446214 , 5.5279038 ],\n",
      "       [7.93019866, 8.14006634],\n",
      "       [2.38952606, 7.22195564],\n",
      "       [2.73285832, 2.83024707]]), 8: array([[7.52963009, 8.79617112],\n",
      "       [1.66972218, 8.1292424 ],\n",
      "       [5.27137631, 5.53516715],\n",
      "       [1.72614408, 6.81819407],\n",
      "       [3.03696341, 5.82211317],\n",
      "       [6.48423011, 5.04416608],\n",
      "       [2.3537231 , 6.29810755],\n",
      "       [8.67805277, 9.08757916]]), 9: array([[2.0614632 , 8.22584366],\n",
      "       [5.14255397, 8.37451307],\n",
      "       [3.2492998 , 5.59125171],\n",
      "       [8.60402994, 8.76147163],\n",
      "       [2.04945194, 2.75937105],\n",
      "       [2.3537231 , 6.29810755],\n",
      "       [5.60001917, 3.02332715],\n",
      "       [2.48989693, 8.40047863],\n",
      "       [5.07631894, 3.30296197]]), 10: array([[4.34489155, 3.99726667],\n",
      "       [6.12393256, 5.49223251],\n",
      "       [3.12914724, 3.40388727],\n",
      "       [9.26998864, 9.62492869],\n",
      "       [2.91008221, 7.51943984],\n",
      "       [7.68097556, 0.83542043],\n",
      "       [7.85355511, 2.53104656],\n",
      "       [3.9649361 , 5.20027567],\n",
      "       [2.20011496, 1.53863221],\n",
      "       [3.81135136, 5.98125361]])}\n"
     ]
    }
   ],
   "source": [
    "k_values = [i for i in range(2,11)]\n",
    "centroids_for_k = dict()\n",
    "k_scores = dict()\n",
    "for k in k_values:\n",
    "    idx = np.random.randint(len(data), size=k)\n",
    "    print(idx)\n",
    "    centroids_for_k[k] = data[idx, :]\n",
    "    objective_score, centroids = k_means(data, k, centroids_for_k[k])\n",
    "    k_scores[k] = objective_score\n",
    "\n",
    "print(k_scores)\n",
    "print(centroids_for_k)"
   ]
  },
  {
   "cell_type": "code",
   "execution_count": 6,
   "metadata": {},
   "outputs": [],
   "source": [
    "import matplotlib.pyplot as plt"
   ]
  },
  {
   "cell_type": "code",
   "execution_count": 7,
   "metadata": {},
   "outputs": [
    {
     "data": {
      "text/plain": [
       "Text(0,0.5,'Objective function')"
      ]
     },
     "execution_count": 7,
     "metadata": {},
     "output_type": "execute_result"
    },
    {
     "data": {
      "image/png": "[encoded data removed]",
      "text/plain": [
       "<Figure size 432x288 with 1 Axes>"
      ]
     },
     "metadata": {
      "needs_background": "light"
     },
     "output_type": "display_data"
    }
   ],
   "source": [
    "plt.plot([key for key,value in k_scores.items()], [value for key,value in k_scores.items()])\n",
    "plt.xlabel('k values')\n",
    "plt.ylabel('Objective function')"
   ]
  },
  {
   "cell_type": "code",
   "execution_count": null,
   "metadata": {},
   "outputs": [],
   "source": []
  }
 ],
 "metadata": {
  "kernelspec": {
   "display_name": "Python 3",
   "language": "python",
   "name": "python3"
  },
  "language_info": {
   "codemirror_mode": {
    "name": "ipython",
    "version": 3
   },
   "file_extension": ".py",
   "mimetype": "text/x-python",
   "name": "python",
   "nbconvert_exporter": "python",
   "pygments_lexer": "ipython3",
   "version": "3.7.6"
  }
 },
 "nbformat": 4,
 "nbformat_minor": 2
}
