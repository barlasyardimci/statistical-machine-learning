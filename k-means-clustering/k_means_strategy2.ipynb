{
 "cells": [
  {
   "cell_type": "code",
   "execution_count": 1,
   "metadata": {},
   "outputs": [],
   "source": [
    "from Precode2 import *\n",
    "import numpy\n",
    "\n",
    "data = np.load('AllSamples.npy')"
   ]
  },
  {
   "cell_type": "code",
   "execution_count": 2,
   "metadata": {},
   "outputs": [
    {
     "name": "stdout",
     "output_type": "stream",
     "text": [
      "Strategy 2: k and initial points\n"
     ]
    }
   ],
   "source": [
    "k1,i_point1,k2,i_point2 = initial_S2('9330') # please replace 0111 with your last four digit of your ID"
   ]
  },
  {
   "cell_type": "code",
   "execution_count": 3,
   "metadata": {},
   "outputs": [
    {
     "name": "stdout",
     "output_type": "stream",
     "text": [
      "4\n",
      "[2.38952606 7.22195564]\n",
      "6\n",
      "[1.713841   4.31350258]\n"
     ]
    }
   ],
   "source": [
    "print(k1)\n",
    "print(i_point1)\n",
    "print(k2)\n",
    "print(i_point2)"
   ]
  },
  {
   "cell_type": "code",
   "execution_count": 4,
   "metadata": {},
   "outputs": [
    {
     "name": "stdout",
     "output_type": "stream",
     "text": [
      "(804.6522700126434, {0: array([3.36759466, 6.90961066]), 1: array([2.85235149, 2.28186483]), 2: array([7.14834495, 7.96153683]), 3: array([6.80866964, 2.75651994])})\n",
      "(476.2965705269665, {0: array([3.502455  , 3.62870476]), 1: array([7.75648325, 8.55668928]), 2: array([3.14506148, 0.90770655]), 3: array([2.52382885, 7.02897469]), 4: array([7.41419243, 2.32169114]), 5: array([5.46427736, 6.83771354])})\n"
     ]
    }
   ],
   "source": [
    "def distance(d1, d2):\n",
    "    return numpy.sqrt(numpy.sum(numpy.square(d1 - d2), axis = 1)).reshape(d1.shape[0],1)\n",
    "    \n",
    "def k_means(data, k, centroids):\n",
    "    prev_obj = 10000000000\n",
    "    centroid_coords = dict()\n",
    "    all_distances = dict()\n",
    "    #create centroids\n",
    "    objective_score = 1000000000\n",
    "    epoch = 0\n",
    "    centroid_data = data\n",
    "    centroid_coords[0] = numpy.array(centroids)\n",
    "    for i in range(1,k):\n",
    "        loc = numpy.argmax(numpy.mean(numpy.concatenate([distance(centroid_data, centroid_coords[x]) for x in range(i)], axis=1), axis = 1), axis = 0)\n",
    "        centroid_coords[i] = centroid_data[loc]\n",
    "        centroid_data = numpy.delete(centroid_data, (loc), axis = 0)\n",
    "    #print(centroid_coords)\n",
    "    while epoch < 500:\n",
    "        prev_obj = objective_score\n",
    "        for i in range(k):\n",
    "            #calculate all distances\n",
    "            all_distances[i] = distance(data, centroid_coords[i])\n",
    "        #print(centroid_coords)\n",
    "        distance_scores = numpy.concatenate([value for key,value in all_distances.items()], axis = 1)\n",
    "        distance_scores = numpy.argmin(distance_scores, axis = 1)\n",
    "        #print(distance_scores)\n",
    "    \n",
    "        #calculate means\n",
    "        means = dict()\n",
    "        for x in range(k):\n",
    "            means[x] = numpy.mean(data[distance_scores == x][:], axis = 0)\n",
    "    \n",
    "        #calculate objective function\n",
    "        objective_score = numpy.sum([numpy.sum(numpy.square(distance(data[distance_scores == key][:], means[key]))) for key, value in means.items()])\n",
    "        #update centroids\n",
    "        centroid_coords = means\n",
    "        #print(\"Previous score was : \" + str(prev_obj) + \" current calculated score is: \" + str(objective_score) + \" epoch no \" + str(epoch))\n",
    "        epoch += 1\n",
    "    \n",
    "    return objective_score, centroid_coords\n",
    "\n",
    "print(k_means(data, k1, i_point1))\n",
    "print(k_means(data, k2, i_point2))"
   ]
  },
  {
   "cell_type": "code",
   "execution_count": 5,
   "metadata": {},
   "outputs": [
    {
     "name": "stdout",
     "output_type": "stream",
     "text": [
      "{2: 1921.033485856206, 3: 1293.7774523911348, 4: 805.116645747261, 5: 613.2824392056042, 6: 476.118751676353, 7: 452.2372575407145, 8: 350.03831613374075, 9: 277.7467073221943, 10: 228.19429530506133}\n"
     ]
    }
   ],
   "source": [
    "k_values = [i for i in range(2,11)]\n",
    "centroids_for_k = dict()\n",
    "k_scores = dict()\n",
    "for k in k_values:\n",
    "    idx = np.random.randint(len(data), size=1)\n",
    "    centroids_for_k[k] = data[idx, :]\n",
    "    objective_score, centroids = k_means(data, k, centroids_for_k[k])\n",
    "    k_scores[k] = objective_score\n",
    "\n",
    "print(k_scores)"
   ]
  },
  {
   "cell_type": "code",
   "execution_count": 6,
   "metadata": {},
   "outputs": [],
   "source": [
    "import matplotlib.pyplot as plt"
   ]
  },
  {
   "cell_type": "code",
   "execution_count": 7,
   "metadata": {},
   "outputs": [
    {
     "data": {
      "text/plain": [
       "Text(0,0.5,'Objective function')"
      ]
     },
     "execution_count": 7,
     "metadata": {},
     "output_type": "execute_result"
    },
    {
     "data": {
      "image/png": "[encoded data removed]",
      "text/plain": [
       "<Figure size 432x288 with 1 Axes>"
      ]
     },
     "metadata": {
      "needs_background": "light"
     },
     "output_type": "display_data"
    }
   ],
   "source": [
    "plt.plot([key for key,value in k_scores.items()], [value for key,value in k_scores.items()])\n",
    "plt.xlabel('k values')\n",
    "plt.ylabel('Objective function')"
   ]
  },
  {
   "cell_type": "code",
   "execution_count": null,
   "metadata": {},
   "outputs": [],
   "source": []
  }
 ],
 "metadata": {
  "kernelspec": {
   "display_name": "Python 3",
   "language": "python",
   "name": "python3"
  },
  "language_info": {
   "codemirror_mode": {
    "name": "ipython",
    "version": 3
   },
   "file_extension": ".py",
   "mimetype": "text/x-python",
   "name": "python",
   "nbconvert_exporter": "python",
   "pygments_lexer": "ipython3",
   "version": "3.7.6"
  }
 },
 "nbformat": 4,
 "nbformat_minor": 2
}
